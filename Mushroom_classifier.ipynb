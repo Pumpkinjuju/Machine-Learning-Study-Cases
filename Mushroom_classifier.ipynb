{
 "cells": [
  {
   "cell_type": "code",
   "execution_count": 2,
   "id": "dcc0cdcc-d280-4263-908a-4180088cbb36",
   "metadata": {},
   "outputs": [
    {
     "name": "stdout",
     "output_type": "stream",
     "text": [
      "Extracted files： ['agaricus-lepiota.data', 'agaricus-lepiota.names', 'expanded.Z', 'Index', 'README']\n"
     ]
    }
   ],
   "source": [
    "import zipfile \n",
    "import os \n",
    "\n",
    "zip_path = 'mushroom.zip'\n",
    "extract_dir = 'mushroom_data'\n",
    "\n",
    "with zipfile.ZipFile(zip_path,'r') as zip_ref:\n",
    "    zip_ref.extractall(extract_dir)\n",
    "print(\"Extracted files：\", os.listdir(extract_dir))\n",
    "\n"
   ]
  },
  {
   "cell_type": "code",
   "execution_count": 10,
   "id": "8ad52e4d-6db9-46b4-8df1-0cb20dd1f3e2",
   "metadata": {},
   "outputs": [
    {
     "name": "stdout",
     "output_type": "stream",
     "text": [
      "  class cap-shape cap-surface cap-color bruises odor gill-attachment  \\\n",
      "0     p         x           s         n       t    p               f   \n",
      "1     e         x           s         y       t    a               f   \n",
      "2     e         b           s         w       t    l               f   \n",
      "3     p         x           y         w       t    p               f   \n",
      "4     e         x           s         g       f    n               f   \n",
      "\n",
      "  gill-spacing gill-size gill-color  ... stalk-surface-below-ring  \\\n",
      "0            c         n          k  ...                        s   \n",
      "1            c         b          k  ...                        s   \n",
      "2            c         b          n  ...                        s   \n",
      "3            c         n          n  ...                        s   \n",
      "4            w         b          k  ...                        s   \n",
      "\n",
      "  stalk-color-above-ring stalk-color-below-ring veil-type veil-color  \\\n",
      "0                      w                      w         p          w   \n",
      "1                      w                      w         p          w   \n",
      "2                      w                      w         p          w   \n",
      "3                      w                      w         p          w   \n",
      "4                      w                      w         p          w   \n",
      "\n",
      "  ring-number ring-type spore-print-color population habitat  \n",
      "0           o         p                 k          s       u  \n",
      "1           o         p                 n          n       g  \n",
      "2           o         p                 n          n       m  \n",
      "3           o         p                 k          s       u  \n",
      "4           o         e                 n          a       g  \n",
      "\n",
      "[5 rows x 23 columns]\n",
      "['class', 'cap-shape', 'cap-surface', 'cap-color', 'bruises', 'odor', 'gill-attachment', 'gill-spacing', 'gill-size', 'gill-color', 'stalk-shape', 'stalk-root', 'stalk-surface-above-ring', 'stalk-surface-below-ring', 'stalk-color-above-ring', 'stalk-color-below-ring', 'veil-type', 'veil-color', 'ring-number', 'ring-type', 'spore-print-color', 'population', 'habitat']\n",
      "Number of columns: 23\n"
     ]
    }
   ],
   "source": [
    "import pandas as pd\n",
    "\n",
    "file_path = 'mushroom_data/agaricus-lepiota.data'\n",
    "columns = [\n",
    "    'class', 'cap-shape', 'cap-surface', 'cap-color', 'bruises', 'odor',\n",
    "    'gill-attachment', 'gill-spacing', 'gill-size', 'gill-color',\n",
    "    'stalk-shape', 'stalk-root', 'stalk-surface-above-ring', 'stalk-surface-below-ring',\n",
    "    'stalk-color-above-ring', 'stalk-color-below-ring', 'veil-type', 'veil-color',\n",
    "    'ring-number', 'ring-type', 'spore-print-color', 'population', 'habitat'\n",
    "]\n",
    "df = pd.read_csv(file_path,header = None,names = columns)\n",
    "# 查看前几行\n",
    "print(df.head())\n",
    "print(df.columns.tolist())\n",
    "# 查看总列数\n",
    "print(f\"Number of columns: {df.shape[1]}\")"
   ]
  },
  {
   "cell_type": "code",
   "execution_count": 11,
   "id": "19a09a30-ecbb-4c52-b5a8-0cdfe260ce2e",
   "metadata": {},
   "outputs": [
    {
     "name": "stdout",
     "output_type": "stream",
     "text": [
      "Train size: (6499, 117)\n",
      "Test size: (1625, 117)\n",
      "y_train label distribution:\n",
      " class_p\n",
      "False    0.517926\n",
      "True     0.482074\n",
      "Name: proportion, dtype: float64\n",
      "y_test label distribution:\n",
      " class_p\n",
      "False    0.518154\n",
      "True     0.481846\n",
      "Name: proportion, dtype: float64\n"
     ]
    }
   ],
   "source": [
    "import numpy as np\n",
    "from sklearn.model_selection import train_test_split \n",
    "#perform encoded \n",
    "df_encoded = pd.get_dummies(df)\n",
    "X = df_encoded.iloc[:,2:]\n",
    "y = df_encoded.iloc[:,1]  # → 取“class”列作为目标\n",
    "#train and test split \n",
    "X_train,X_test,y_train,y_test = train_test_split(X,y,test_size = 0.2,random_state = 42,stratify = y)\n",
    "print(\"Train size:\", X_train.shape)\n",
    "print(\"Test size:\", X_test.shape)\n",
    "print(\"y_train label distribution:\\n\", y_train.value_counts(normalize=True))\n",
    "print(\"y_test label distribution:\\n\", y_test.value_counts(normalize=True))"
   ]
  },
  {
   "cell_type": "code",
   "execution_count": 12,
   "id": "af87a814-deba-40e4-b541-97dc894ab4e2",
   "metadata": {},
   "outputs": [
    {
     "data": {
      "text/plain": [
       "['odor_n',\n",
       " 'stalk-root_c',\n",
       " 'stalk-surface-below-ring_y',\n",
       " 'spore-print-color_r',\n",
       " 'odor_a']"
      ]
     },
     "execution_count": 12,
     "metadata": {},
     "output_type": "execute_result"
    }
   ],
   "source": [
    "from sklearn.tree import DecisionTreeClassifier \n",
    "\n",
    "def DecisionTree():\n",
    "    DC_model = DecisionTreeClassifier(random_state=42)\n",
    "    DC_model.fit(X_train, y_train)\n",
    "\n",
    "    importance = DC_model.feature_importances_            # importance score for each feature\n",
    "    top_5 = importance.argsort()[::-1][:5]                # get top 5 feature indices\n",
    "    top_5_feature = list(X_train.columns[top_5])          # map indices back to column names\n",
    "\n",
    "    return top_5_feature\n",
    "\n",
    "DecisionTree()\n"
   ]
  },
  {
   "cell_type": "code",
   "execution_count": 18,
   "id": "f336a5cf-2ad5-4851-af91-a84d9973a4f0",
   "metadata": {},
   "outputs": [
    {
     "data": {
      "image/png": "[encoded data removed]",
      "text/plain": [
       "<Figure size 800x500 with 1 Axes>"
      ]
     },
     "metadata": {},
     "output_type": "display_data"
    },
    {
     "data": {
      "text/plain": [
       "(array([0.89838749, 0.98104382, 0.99895372, 1.        , 1.        ,\n",
       "        1.        ]),\n",
       " array([0.88749385, 0.82951748, 0.84170359, 0.86582964, 0.83616445,\n",
       "        0.51797144]))"
      ]
     },
     "execution_count": 18,
     "metadata": {},
     "output_type": "execute_result"
    }
   ],
   "source": [
    "#support vector classifier to evaluate the training and test scores for 6 values of gamma from 0.0001 to 10 (i.e. np.logspace(-4,1,6)).\n",
    "\n",
    "\n",
    "import numpy as np\n",
    "import matplotlib.pyplot as plt\n",
    "from sklearn.svm import SVC\n",
    "from sklearn.model_selection import validation_curve\n",
    "\n",
    "def evaluate_svc_gamma(X, y):\n",
    "    param_range = np.logspace(-4, 1, 6)  # gamma: 0.0001 → 10\n",
    "\n",
    "    clf = SVC(kernel='rbf', C=1, random_state=42)\n",
    "\n",
    "    train_scores, test_scores = validation_curve(\n",
    "        clf, X, y,\n",
    "        param_name='gamma',\n",
    "        param_range=param_range,\n",
    "        cv=3,\n",
    "        scoring='accuracy',\n",
    "        n_jobs=2\n",
    "    )\n",
    "\n",
    "    train_mean = train_scores.mean(axis=1)\n",
    "    test_mean = test_scores.mean(axis=1)\n",
    "\n",
    "    # Plot\n",
    "    plt.figure(figsize=(8, 5))\n",
    "    plt.semilogx(param_range, train_mean, label='Training Accuracy', marker='o')\n",
    "    plt.semilogx(param_range, test_mean, label='Validation Accuracy', marker='s')\n",
    "    plt.xlabel(\"Gamma (log scale)\")\n",
    "    plt.ylabel(\"Accuracy\")\n",
    "    plt.title(\"Validation Curve for SVC (RBF Kernel)\")\n",
    "    plt.legend()\n",
    "    plt.grid(True)\n",
    "    plt.tight_layout()\n",
    "    plt.show()\n",
    "\n",
    "    return train_mean, test_mean\n",
    "\n",
    "# 调用\n",
    "evaluate_svc_gamma(X, y)\n",
    "\n"
   ]
  },
  {
   "cell_type": "code",
   "execution_count": null,
   "id": "b56d427e-c254-4259-9b6f-eeb7bba20d60",
   "metadata": {},
   "outputs": [],
   "source": []
  },
  {
   "cell_type": "code",
   "execution_count": null,
   "id": "c0c0bc3c-e937-46e5-869f-d7dd6ccbbbdf",
   "metadata": {},
   "outputs": [],
   "source": []
  }
 ],
 "metadata": {
  "kernelspec": {
   "display_name": "Python (myenv39)",
   "language": "python",
   "name": "myenv39"
  },
  "language_info": {
   "codemirror_mode": {
    "name": "ipython",
    "version": 3
   },
   "file_extension": ".py",
   "mimetype": "text/x-python",
   "name": "python",
   "nbconvert_exporter": "python",
   "pygments_lexer": "ipython3",
   "version": "3.11.13"
  }
 },
 "nbformat": 4,
 "nbformat_minor": 5
}
